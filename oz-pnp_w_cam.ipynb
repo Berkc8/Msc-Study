{
 "cells": [
  {
   "cell_type": "markdown",
   "id": "dffc232a",
   "metadata": {},
   "source": [
    "# Pick-and-place with camera images"
   ]
  },
  {
   "cell_type": "code",
   "execution_count": 8,
   "id": "8e07bf36",
   "metadata": {},
   "outputs": [],
   "source": [
    "from robotic import ry\n",
    "import numpy as np\n",
    "import time"
   ]
  },
  {
   "cell_type": "code",
   "execution_count": 3,
   "id": "076519c8",
   "metadata": {},
   "outputs": [],
   "source": [
    "#pip install robotic\n",
    "#pip show robotic #current version: 0.0.17\n",
    "#pip uninstall robotic"
   ]
  },
  {
   "cell_type": "code",
   "execution_count": 9,
   "id": "dab4fbee",
   "metadata": {},
   "outputs": [
    {
     "data": {
      "text/plain": [
       "0"
      ]
     },
     "execution_count": 9,
     "metadata": {},
     "output_type": "execute_result"
    }
   ],
   "source": [
    "C = ry.Config()\n",
    "C.addFile('../rai-robotModels/scenarios/pandaSingle_crates.g')\n",
    "#print(ry.raiPath('scenarios/pandaSingle_crates.g'))\n",
    "#C.addFile(ry.raiPath('scenarios/pandaSingle_crates.g'))\n",
    "C.view(False, 'this is your workspace data structure C -- NOT THE SIMULATION')"
   ]
  },
  {
   "cell_type": "code",
   "execution_count": 11,
   "metadata": {},
   "outputs": [],
   "source": [
    "ry.params_add({\"bot/useArm\":\"left\"})\n",
    "bot = ry.BotOp(C, False)"
   ]
  },
  {
   "cell_type": "code",
   "execution_count": 14,
   "metadata": {},
   "outputs": [
    {
     "name": "stdout",
     "output_type": "stream",
     "text": [
      "qs:  [ 0.  -0.5  0.  -2.   0.   2.  -0.5] \n",
      " qf:  -0.30000000000000043\n",
      "-- WARNING:kin.cpp:addFrame:191(-1) frame already exists! returning existing without modifications!\n"
     ]
    }
   ],
   "source": [
    "pclFrame = C.addFrame('pcl', 'camera_1')\n",
    "qs = bot.get_qHome()\n",
    "qf = qs[1] + 0.2\n",
    "q = qs.copy()\n",
    "\n",
    "print(\"qs: \", qs, \"\\n\", \"qf: \", qf)\n",
    "i = 0\n",
    "\n",
    "\n",
    "rgb, depth, points = bot.getImageDepthPcl('camera_1')\n",
    "pclFrame.setPointCloud(points, rgb)"
   ]
  },
  {
   "cell_type": "code",
   "execution_count": 15,
   "id": "bead6ae7",
   "metadata": {},
   "outputs": [
    {
     "name": "stdout",
     "output_type": "stream",
     "text": [
      "<robotic.ry.Frame object at 0x7f70c8311eb0>\n"
     ]
    }
   ],
   "source": []
  },
  {
   "cell_type": "code",
   "execution_count": 16,
   "id": "0a8b9e91",
   "metadata": {},
   "outputs": [
    {
     "name": "stdout",
     "output_type": "stream",
     "text": [
      "-- bot.cpp:~BotOp:112(0) shutting down BotOp...\n",
      "-- simulation.cpp:~BotThreadedSim:56(0) shutting down SimThread\n",
      "-- simulation.cpp:~Simulation:148(0) shutting down Simulation\n"
     ]
    }
   ],
   "source": [
    "del bot\n",
    "del C"
   ]
  },
  {
   "cell_type": "code",
   "execution_count": null,
   "id": "260da025",
   "metadata": {},
   "outputs": [],
   "source": [
    "while bot.getKeyPressed()!=ord('q'):\n",
    "    rgb, depth, points = bot.getImageDepthPcl('camera_1')\n",
    "    pclFrame.setPointCloud(points, rgb)\n",
    "\n",
    "    if abs(bot.get_q()[1] - qs[1]) < 1e-4 and i == 0:\n",
    "        i += 1\n",
    "        q[1] = q[1] + .2\n",
    "        print('i:', i, '\\t q[1]: ', q[1], '\\t (bot.get_q()[1] - qs[1]): ', abs(bot.get_q()[1] - qs[1]))\n",
    "        print('bot.get_q()[1]: ', bot.get_q()[1])\n",
    "        # bot.wait(C,False,False)\n",
    "    elif abs(bot.get_q()[1] - qf) < 1e-4 and i == 1:\n",
    "        i -= 1\n",
    "        q[1] = q[1] - .2\n",
    "        print('i:', i, '\\t q[1]: ', q[1], '\\t (bot.get_q()[1] - qf): ', abs(bot.get_q()[1] - qf))\n",
    "        print('bot.get_q()[1]: ', bot.get_q()[1])\n",
    "        # bot.wait(C,False,False)\n",
    "\n",
    "    # print(bot.get_q()[1])\n",
    "    # print(abs(bot.get_q()[1] - qf))\n",
    "    bot.moveTo(q_target=q)\n",
    "    bot.sync(C, .1)\n",
    "    # bot.wait(C)\n",
    "    # if(bot.getKeyPressed()=='q') break;\n",
    "\n",
    "\n",
    "del C\n",
    "del bot"
   ]
  }
 ],
 "metadata": {
  "kernelspec": {
   "display_name": "Python 3 (ipykernel)",
   "language": "python",
   "name": "python3"
  },
  "language_info": {
   "codemirror_mode": {
    "name": "ipython",
    "version": 3
   },
   "file_extension": ".py",
   "mimetype": "text/x-python",
   "name": "python",
   "nbconvert_exporter": "python",
   "pygments_lexer": "ipython3",
   "version": "3.10.9"
  }
 },
 "nbformat": 4,
 "nbformat_minor": 5
}
